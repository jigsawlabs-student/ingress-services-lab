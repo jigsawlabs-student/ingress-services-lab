{
 "cells": [
  {
   "cell_type": "code",
   "execution_count": null,
   "id": "terminal-transparency",
   "metadata": {},
   "outputs": [],
   "source": []
  },
  {
   "cell_type": "markdown",
   "id": "urban-smith",
   "metadata": {},
   "source": [
    "### Rewrite Targets"
   ]
  },
  {
   "cell_type": "markdown",
   "id": "unnecessary-trunk",
   "metadata": {},
   "source": [
    "Now to get this working we'll use a rewrite target.  This means that our ingress service will get a request and rewrite the request path before passing it along to the corresponding service.  There is some fairly good documentation on how this works [here](https://kubernetes.github.io/ingress-nginx/examples/rewrite/)."
   ]
  },
  {
   "cell_type": "markdown",
   "id": "adapted-garage",
   "metadata": {},
   "source": [
    "So we can accomplish this by updating our nginx service with the following.  Change the first few fields of the `ingress.yaml` file to the following:"
   ]
  },
  {
   "cell_type": "markdown",
   "id": "going-torture",
   "metadata": {},
   "source": [
    "```yaml\n",
    "apiVersion: networking.k8s.io/v1\n",
    "kind: Ingress\n",
    "metadata:\n",
    "    name: public-routing\n",
    "    annotations:\n",
    "      nginx.ingress.kubernetes.io/rewrite-target: /$1\n",
    "```"
   ]
  },
  {
   "cell_type": "markdown",
   "id": "apparent-animal",
   "metadata": {},
   "source": [
    "And update the path related to the api service so that instead of `path: /api` it now says:\n",
    "\n",
    "```yaml\n",
    "- path: /api/?(.*)\n",
    "```\n",
    "\n",
    "Ok, now let's explain what the above accomplishes starting the with path."
   ]
  },
  {
   "cell_type": "markdown",
   "id": "smoking-monitoring",
   "metadata": {},
   "source": [
    "The path of `/api/?(.*)` is a regex.  And it says that it finds a match of `api/` followed by subsequent characters.  With the `(.*)`, the parentheses are a capture group -- and the `.*` with will match any character for one or more times.  So the `(.*)` will essentially capture any characters occurring after the `/api`.  We reference this as capture group 1.\n",
    "\n",
    "Now in the config file above, we added the following:\n",
    "\n",
    "```yaml\n",
    "annotations:\n",
    "      nginx.ingress.kubernetes.io/rewrite-target: /$1\n",
    "```\n",
    "\n",
    "This means to rewrite the request to the backend with whatever is captured in capture group 1, here, anything after the `/api`.  So a request to `/api/apartments` will now be passed along to the backend as `/apartments`."
   ]
  },
  {
   "cell_type": "markdown",
   "id": "liable-recruitment",
   "metadata": {},
   "source": [
    "Update the `ingress.yaml` file, and apply the changes.  Now if we make a request to /api/apartments, we can check the logs and see that it's forwarded onto our pod as `/apartments`."
   ]
  },
  {
   "cell_type": "markdown",
   "id": "comic-occasions",
   "metadata": {},
   "source": [
    "> <img src=\"./apartments.png\" width=\"60%\">"
   ]
  },
  {
   "cell_type": "markdown",
   "id": "parallel-example",
   "metadata": {},
   "source": [
    "And in the browser, we should now be able to go to `/api/apartments` and see the json.\n"
   ]
  }
 ],
 "metadata": {
  "kernelspec": {
   "display_name": "Python 3",
   "language": "python",
   "name": "python3"
  },
  "language_info": {
   "codemirror_mode": {
    "name": "ipython",
    "version": 3
   },
   "file_extension": ".py",
   "mimetype": "text/x-python",
   "name": "python",
   "nbconvert_exporter": "python",
   "pygments_lexer": "ipython3",
   "version": "3.8.6"
  }
 },
 "nbformat": 4,
 "nbformat_minor": 5
}
