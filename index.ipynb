{
 "cells": [
  {
   "cell_type": "markdown",
   "metadata": {},
   "source": [
    "# Ingress Services Lab"
   ]
  },
  {
   "cell_type": "markdown",
   "metadata": {},
   "source": [
    "### Introduction"
   ]
  },
  {
   "cell_type": "markdown",
   "metadata": {},
   "source": [
    "In this lesson, we'll use what we learned about ingress services to allow external access to our cluster.  Let's get started."
   ]
  },
  {
   "cell_type": "markdown",
   "metadata": {},
   "source": [
    "### Setting it Up"
   ]
  },
  {
   "cell_type": "markdown",
   "metadata": {},
   "source": [
    "Now, if you have not yet installed the ingress-nginx service,  now is a good time.  Remember that the documentation for doing so.  \n",
    "\n",
    "We first run `minikube addons list` which should show us the list of addons.\n",
    "\n",
    "And then run `minikube addons enable ingress`."
   ]
  },
  {
   "cell_type": "markdown",
   "metadata": {},
   "source": [
    "Now this will install a number of resources in the kube-system namespace.  So we can see this by viewing the pods now available in the `kube-system` namespace.  Run the following to take a look:"
   ]
  },
  {
   "cell_type": "markdown",
   "metadata": {},
   "source": [
    "`kubectl get pods -n kube-system`"
   ]
  },
  {
   "cell_type": "markdown",
   "metadata": {},
   "source": [
    "> <img src=\"./show_ingress.png\" width=\"60%\">"
   ]
  },
  {
   "cell_type": "markdown",
   "metadata": {},
   "source": [
    "And importantly, we can see that now if we visit the ip address of our cluster, we'll now see this point to nginx.  We can view the ip address of our cluster by visiting `minikube ip`."
   ]
  },
  {
   "cell_type": "markdown",
   "metadata": {},
   "source": [
    "> <img src=\"./nginx_404.png\" width=\"60%\">"
   ]
  },
  {
   "cell_type": "markdown",
   "metadata": {},
   "source": [
    "Next, remember that we'll to setup our `/etc/hosts` file so that a request to a domain name of `apartments.com` goes to our cluster's ip address."
   ]
  },
  {
   "cell_type": "markdown",
   "metadata": {},
   "source": [
    "> `sudo vim /etc/hosts`"
   ]
  },
  {
   "cell_type": "markdown",
   "metadata": {},
   "source": [
    "Then configure the file appropriately.  Now, if we visit `apartments.com` we should see the same nginx screen.  \n",
    "\n",
    "> **Warning**: We may have to view the domain while in incognito mode, as otherwise our browser may rely on a cached request. "
   ]
  },
  {
   "cell_type": "markdown",
   "metadata": {},
   "source": [
    "### Adding to our ingress"
   ]
  },
  {
   "cell_type": "markdown",
   "metadata": {},
   "source": [
    "Ok, now it's time to add an ingress service.  We'll do so such that we can make external requests to the frontend-service and the backend-service.  The frontend service should be requested through the root url -- `/`, and the backend service should be connected through a request to `apartments.com/api`.\n",
    "\n",
    "> We'll provide the frontend service for you, which you simply need to add to a yaml file, and apply the changes."
   ]
  },
  {
   "cell_type": "markdown",
   "metadata": {},
   "source": [
    "```yaml\n",
    "apiVersion: networking.k8s.io/v1\n",
    "kind: Ingress\n",
    "metadata:\n",
    "    name: public-routing\n",
    "spec:\n",
    "    rules:\n",
    "        - host: apartments.com\n",
    "          http:\n",
    "            paths:\n",
    "                - path: /\n",
    "                  pathType: Prefix\n",
    "                  backend: \n",
    "                    service:\n",
    "                      name: frontend-service\n",
    "                      port: \n",
    "                        number: 8501\n",
    "```"
   ]
  },
  {
   "cell_type": "markdown",
   "metadata": {},
   "source": [
    "Then confirm that you can access the streamlit service by visiting the ip address of the cluster.\n",
    "\n",
    "> It may take a number of minutes to boot up, check the `get pods` and `describe pods` command to check the progress. "
   ]
  },
  {
   "cell_type": "markdown",
   "metadata": {},
   "source": [
    "> <img src=\"./working-application.png\" width=\"40%\">"
   ]
  },
  {
   "cell_type": "markdown",
   "metadata": {},
   "source": [
    "The frontend service is of type NodePort.  As we know, this makes the service publicly accessible.  Update the service so that it is only accessible from within the cluster, and check that our website is still working."
   ]
  },
  {
   "cell_type": "markdown",
   "metadata": {},
   "source": [
    "Ok, now let's add a route to the backend service.\n",
    "\n",
    "We'll want any requests to `/api` to be transferred to the backend service.  We'll also want to change the backend service from type NodePort so that the service is not directly accessible.\n",
    "\n",
    "Now we cannot get this working completely at this point, but we'll know that we're on the right track if we see the following:"
   ]
  },
  {
   "cell_type": "markdown",
   "metadata": {},
   "source": [
    "> <img src=\"./proper_404.png\" width=\"80%\">"
   ]
  },
  {
   "cell_type": "markdown",
   "metadata": {},
   "source": [
    "The above is the 404 for the flask application.  Now this isn't exactly what we hope to see.  We'd like to see the corresponding json.\n",
    "\n",
    "We can get a sense of what's occurring by looking at the logs for our backend pods.  Run the following to view the logs, and you may see something like the following."
   ]
  },
  {
   "cell_type": "markdown",
   "metadata": {},
   "source": [
    "<img src=\"./problem_with_api.png\" width=\"80%\">"
   ]
  },
  {
   "cell_type": "markdown",
   "metadata": {},
   "source": [
    "So notice above that the request is coming into our api pods as `/api/apartments`.  Instead, we would prefer the nginx ingress to get the `/api` request, and this request to be forwarded onto the api as just  `/apartments`.\n",
    "\n",
    "It turns our there is some setup to accomplish that."
   ]
  },
  {
   "cell_type": "markdown",
   "metadata": {},
   "source": [
    "### Rewrite Targets"
   ]
  },
  {
   "cell_type": "markdown",
   "metadata": {},
   "source": [
    "Now to get this working we'll use a rewrite target.  This means that our ingress service will get a request and rewrite the request path before passing it along to the corresponding service.  There is some fairly good documentation on how this works [here](https://kubernetes.github.io/ingress-nginx/examples/rewrite/)."
   ]
  },
  {
   "cell_type": "markdown",
   "metadata": {},
   "source": [
    "So we can accomplish this by updating our nginx service with the following.  Change the first few fields of the `ingress.yaml` file to the following:"
   ]
  },
  {
   "cell_type": "markdown",
   "metadata": {},
   "source": [
    "```yaml\n",
    "apiVersion: networking.k8s.io/v1\n",
    "kind: Ingress\n",
    "metadata:\n",
    "    name: public-routing\n",
    "    annotations:\n",
    "      nginx.ingress.kubernetes.io/rewrite-target: /$1\n",
    "```"
   ]
  },
  {
   "cell_type": "markdown",
   "metadata": {},
   "source": [
    "And update the path related to the api service so that instead of `path: /api` it now says:\n",
    "\n",
    "```yaml\n",
    "- path: /api/?(.*)\n",
    "```\n",
    "\n",
    "Ok, now let's explain what the above accomplishes starting the with path."
   ]
  },
  {
   "cell_type": "markdown",
   "metadata": {},
   "source": [
    "The path of `/api/?(.*)` is a regex.  And it says that it finds a match of `api/` followed by subsequent characters.  With the `(.*)`, the parentheses are a capture group -- and the `.*` with will match any character for one or more times.  So the `(.*)` will essentially capture any characters occurring after the `/api`.  We reference this as capture group 1.\n",
    "\n",
    "Now in the config file above, we added the following:\n",
    "\n",
    "```yaml\n",
    "annotations:\n",
    "      nginx.ingress.kubernetes.io/rewrite-target: /$1\n",
    "```\n",
    "\n",
    "This means to rewrite the request to the backend with whatever is captured in capture group 1, here, anything after the `/api`.  So a request to `/api/apartments` will now be passed along to the backend as `/apartments`."
   ]
  },
  {
   "cell_type": "markdown",
   "metadata": {},
   "source": [
    "Update the `ingress.yaml` file, and apply the changes.  Now if we make a request to /api/apartments, we can check the logs and see that it's forwarded onto our pod as `/apartments`."
   ]
  },
  {
   "cell_type": "markdown",
   "metadata": {},
   "source": [
    "> <img src=\"./apartments.png\" width=\"60%\">"
   ]
  },
  {
   "cell_type": "markdown",
   "metadata": {},
   "source": [
    "And in the browser, we should now be able to go to `/api/apartments` and see the json.\n"
   ]
  },
  {
   "cell_type": "markdown",
   "metadata": {},
   "source": [
    "> <img src=\"./working_json.png\" width=\"100%\">"
   ]
  },
  {
   "cell_type": "markdown",
   "metadata": {},
   "source": [
    "### Summary"
   ]
  },
  {
   "cell_type": "code",
   "execution_count": null,
   "metadata": {},
   "outputs": [],
   "source": []
  },
  {
   "cell_type": "markdown",
   "metadata": {},
   "source": [
    "### Resources\n",
    "[Debug Services](https://kubernetes.io/docs/tasks/debug-application-cluster/debug-service/)\n",
    "\n",
    "[K8s Workflow](https://www.getambassador.io/resources/dev-workflow-intro/)\n",
    "\n",
    "[Telepresence](https://www.telepresence.io/tutorials/kubernetes-rapid)\n",
    "\n"
   ]
  }
 ],
 "metadata": {
  "kernelspec": {
   "display_name": "Python 3",
   "language": "python",
   "name": "python3"
  },
  "language_info": {
   "codemirror_mode": {
    "name": "ipython",
    "version": 3
   },
   "file_extension": ".py",
   "mimetype": "text/x-python",
   "name": "python",
   "nbconvert_exporter": "python",
   "pygments_lexer": "ipython3",
   "version": "3.8.6"
  }
 },
 "nbformat": 4,
 "nbformat_minor": 4
}
